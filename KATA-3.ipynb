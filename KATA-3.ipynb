{
 "cells": [
  {
   "cell_type": "markdown",
   "metadata": {},
   "source": [
    "# Practica1"
   ]
  },
  {
   "cell_type": "code",
   "execution_count": 6,
   "metadata": {},
   "outputs": [
    {
     "name": "stdout",
     "output_type": "stream",
     "text": [
      "Advertencia\n"
     ]
    }
   ],
   "source": [
    "asteorideVel = 49\n",
    "velocidadAdvertencia = 25\n",
    "\n",
    "if asteorideVel>velocidadAdvertencia:\n",
    " print(\"Advertencia\")"
   ]
  },
  {
   "cell_type": "markdown",
   "metadata": {},
   "source": [
    "# Practica2"
   ]
  },
  {
   "cell_type": "code",
   "execution_count": 8,
   "metadata": {},
   "outputs": [
    {
     "name": "stdout",
     "output_type": "stream",
     "text": [
      "No hay problema\n"
     ]
    }
   ],
   "source": [
    "asteroide2Vel = 19\n",
    "velocidad2Advertencia = 20\n",
    "\n",
    "if asteroide2Vel>=velocidad2Advertencia:\n",
    "    print(\"Advertencia\")\n",
    "else:\n",
    "    print(\"No hay problema\")"
   ]
  },
  {
   "cell_type": "markdown",
   "metadata": {},
   "source": [
    "# Practica3"
   ]
  },
  {
   "cell_type": "code",
   "execution_count": 10,
   "metadata": {},
   "outputs": [
    {
     "name": "stdout",
     "output_type": "stream",
     "text": [
      "Miren una luz en el cielo\n"
     ]
    }
   ],
   "source": [
    "tamanio = 25\n",
    "vel = 20\n",
    "\n",
    "if tamanio>25 and vel>25:\n",
    "    print(\"Advertencia va a caer un asteroide\")\n",
    "elif vel>=20:\n",
    "    print(\"Miren una luz en el cielo\")\n",
    "else:\n",
    "    print(\"Solo es un destello de luz, no pasa nada\")"
   ]
  }
 ],
 "metadata": {
  "interpreter": {
   "hash": "33541a670e8887513ebdf0f19cec6625b51694c5ef6b1c7e83282c54d5cd54e5"
  },
  "kernelspec": {
   "display_name": "Python 3.10.2 64-bit",
   "language": "python",
   "name": "python3"
  },
  "language_info": {
   "codemirror_mode": {
    "name": "ipython",
    "version": 3
   },
   "file_extension": ".py",
   "mimetype": "text/x-python",
   "name": "python",
   "nbconvert_exporter": "python",
   "pygments_lexer": "ipython3",
   "version": "3.10.2"
  },
  "orig_nbformat": 4
 },
 "nbformat": 4,
 "nbformat_minor": 2
}
