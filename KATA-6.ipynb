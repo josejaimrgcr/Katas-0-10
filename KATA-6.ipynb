{
 "cells": [
  {
   "cell_type": "markdown",
   "metadata": {},
   "source": [
    "# Ejercicio1"
   ]
  },
  {
   "cell_type": "code",
   "execution_count": 2,
   "metadata": {},
   "outputs": [
    {
     "name": "stdout",
     "output_type": "stream",
     "text": [
      "['Mercurio', 'Venus', 'Tierra', 'Marte', 'Jupiter', 'Saturno', 'Urano', 'Neptuno']\n",
      "El total de planetas es  9  y el ultimo planeta es  Pluton\n"
     ]
    }
   ],
   "source": [
    "planetas = ['Mercurio','Venus','Tierra','Marte','Jupiter','Saturno','Urano','Neptuno']\n",
    "print(planetas)\n",
    "\n",
    "planetas.append('Pluton')\n",
    "numero = len(planetas)\n",
    "print('El total de planetas es ', numero, ' y el ultimo planeta es ', planetas[-1])"
   ]
  },
  {
   "cell_type": "markdown",
   "metadata": {},
   "source": [
    "# Ejercicio2"
   ]
  },
  {
   "cell_type": "code",
   "execution_count": 7,
   "metadata": {},
   "outputs": [
    {
     "name": "stdout",
     "output_type": "stream",
     "text": [
      "Los planetas mas cercano al Sol antes de  Jupiter  son los siguientes:\n",
      "['Mercurio', 'Venus', 'Tierra', 'Marte']\n",
      "Y los mas lejanos son \n",
      "['Saturno', 'Urano']\n"
     ]
    }
   ],
   "source": [
    "planetas = ['Mercurio','Venus','Tierra','Marte','Jupiter','Saturno','Urano','Neptuno']\n",
    "nombre = input('Ingrese el nombre del planeta comenzando por mayuscula')\n",
    "\n",
    "index_planeta = planetas.index(nombre)\n",
    "print('Los planetas mas cercano al Sol antes de ', nombre, ' son los siguientes:')\n",
    "print(planetas[0:index_planeta])\n",
    "print('Y los mas lejanos son ')\n",
    "print(planetas[index_planeta+1:-1])"
   ]
  }
 ],
 "metadata": {
  "interpreter": {
   "hash": "33541a670e8887513ebdf0f19cec6625b51694c5ef6b1c7e83282c54d5cd54e5"
  },
  "kernelspec": {
   "display_name": "Python 3.10.2 64-bit",
   "language": "python",
   "name": "python3"
  },
  "language_info": {
   "codemirror_mode": {
    "name": "ipython",
    "version": 3
   },
   "file_extension": ".py",
   "mimetype": "text/x-python",
   "name": "python",
   "nbconvert_exporter": "python",
   "pygments_lexer": "ipython3",
   "version": "3.10.2"
  },
  "orig_nbformat": 4
 },
 "nbformat": 4,
 "nbformat_minor": 2
}
