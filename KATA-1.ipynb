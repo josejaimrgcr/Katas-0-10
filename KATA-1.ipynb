{
 "cells": [
  {
   "cell_type": "markdown",
   "metadata": {},
   "source": [
    "# Fecha"
   ]
  },
  {
   "cell_type": "code",
   "execution_count": 5,
   "metadata": {},
   "outputs": [
    {
     "name": "stdout",
     "output_type": "stream",
     "text": [
      "2022-02-07\n"
     ]
    }
   ],
   "source": [
    "from datetime import date\n",
    "\n",
    "print(date.today())"
   ]
  },
  {
   "cell_type": "markdown",
   "metadata": {},
   "source": [
    "# Convertidor de unidades"
   ]
  },
  {
   "cell_type": "code",
   "execution_count": 8,
   "metadata": {},
   "outputs": [
    {
     "name": "stdout",
     "output_type": "stream",
     "text": [
      "11 parsec, son 35.877159999999996 años luz\n"
     ]
    }
   ],
   "source": [
    "parsec = 11\n",
    "añosLuz = 3.26156 * parsec\n",
    "\n",
    "print(str(parsec) + \" parsec, son \" + str(añosLuz) + \" años luz\")"
   ]
  }
 ],
 "metadata": {
  "interpreter": {
   "hash": "33541a670e8887513ebdf0f19cec6625b51694c5ef6b1c7e83282c54d5cd54e5"
  },
  "kernelspec": {
   "display_name": "Python 3.10.2 64-bit",
   "language": "python",
   "name": "python3"
  },
  "language_info": {
   "codemirror_mode": {
    "name": "ipython",
    "version": 3
   },
   "file_extension": ".py",
   "mimetype": "text/x-python",
   "name": "python",
   "nbconvert_exporter": "python",
   "pygments_lexer": "ipython3",
   "version": "3.10.2"
  },
  "orig_nbformat": 4
 },
 "nbformat": 4,
 "nbformat_minor": 2
}
