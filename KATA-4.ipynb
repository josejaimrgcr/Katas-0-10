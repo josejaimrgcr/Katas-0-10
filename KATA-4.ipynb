{
 "cells": [
  {
   "cell_type": "markdown",
   "metadata": {},
   "source": [
    "# Ejercicio1"
   ]
  },
  {
   "cell_type": "code",
   "execution_count": 4,
   "metadata": {},
   "outputs": [
    {
     "name": "stdout",
     "output_type": "stream",
     "text": [
      " \n",
      "On average, the Moon moves 4cm away from the Earth every year\n"
     ]
    }
   ],
   "source": [
    "text =\"\"\"Interesting facts about the Moon. The Moon is Earth's only satellite. There are several interesting facts about the Moon and how it affects life here on Earth. \n",
    "On average, the Moon moves 4cm away from the Earth every year. This yearly drift is not significant enough to cause immediate effects on Earth. The highest dayli\"\"\"\n",
    "\n",
    "texto_dividido = text.split('.')\n",
    "\n",
    "palabras_clave = [\"average\", \"temperature\", \"distance\"]\n",
    "\n",
    "for prueba in texto_dividido:\n",
    "    for key in palabras_clave:\n",
    "        if key in prueba:\n",
    "            print(prueba.replace('C','Celsisus'))\n",
    "            break"
   ]
  },
  {
   "cell_type": "markdown",
   "metadata": {},
   "source": [
    "# Ejercicio2"
   ]
  },
  {
   "cell_type": "code",
   "execution_count": 8,
   "metadata": {},
   "outputs": [
    {
     "name": "stdout",
     "output_type": "stream",
     "text": [
      "---------------------------\n",
      "Nombre del planeta: Ganymede \n",
      "Gravedad en Mars: 1.6199999999999999 m/s2 \n",
      "\n",
      "Datos de Gravedad sobre: Mars\n",
      "-------------------------------------------------------------------------------\n",
      "Nombre del planeta: Ganymede\n",
      "Gravedad en Mars: 1.6199999999999999 m/s2\n",
      "\n"
     ]
    }
   ],
   "source": [
    "name = \"Mars\"\n",
    "gravity = 0.00162\n",
    "planet = \"Ganymede\"\n",
    "title = f'La gravedad en {planet} y en {name}'\n",
    "\n",
    "plantilla = f\"\"\"{'---------------------------'}\n",
    "Nombre del planeta: {planet} \n",
    "Gravedad en {name}: {gravity * 1000} m/s2 \"\"\"\n",
    "\n",
    "union = f\"\"\"{title.title()} {plantilla} \"\"\" \n",
    "print(plantilla)\n",
    "\n",
    "plantilla2 = \"\"\"\n",
    "Datos de Gravedad sobre: {name}\n",
    "-------------------------------------------------------------------------------\n",
    "Nombre del planeta: {planet}\n",
    "Gravedad en {name}: {gravity} m/s2\n",
    "\"\"\"\n",
    "print(plantilla2.format(name=name, planet=planet, gravity=gravity*1000))\n"
   ]
  }
 ],
 "metadata": {
  "interpreter": {
   "hash": "7533f1459c6125aaf97593db0184ce3a3e90cd57228e14ba21ea5ebf6e9d445f"
  },
  "kernelspec": {
   "display_name": "Python 3.10.2 ('env': venv)",
   "language": "python",
   "name": "python3"
  },
  "language_info": {
   "codemirror_mode": {
    "name": "ipython",
    "version": 3
   },
   "file_extension": ".py",
   "mimetype": "text/x-python",
   "name": "python",
   "nbconvert_exporter": "python",
   "pygments_lexer": "ipython3",
   "version": "3.10.2"
  },
  "orig_nbformat": 4
 },
 "nbformat": 4,
 "nbformat_minor": 2
}
