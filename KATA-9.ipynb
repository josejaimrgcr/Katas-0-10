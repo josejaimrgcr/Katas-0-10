{
 "cells": [
  {
   "cell_type": "markdown",
   "metadata": {},
   "source": [
    "# Ejercicio1"
   ]
  },
  {
   "cell_type": "code",
   "execution_count": 11,
   "metadata": {},
   "outputs": [
    {
     "name": "stdout",
     "output_type": "stream",
     "text": [
      "('Reporte de gas', 'Tanque1 = 5 \\n    Tanque2 = 5 \\n    Tanque3 = 5 \\n    Promedio 5.0')\n"
     ]
    }
   ],
   "source": [
    "def tanque_de_gas(tanque1,tanque2,tanque3):\n",
    "    return 'Reporte de gas', f'Tanque1 = {tanque1} Tanque2 = {tanque2} Tanque3 = {tanque3} Promedio {promedio([tanque1,tanque2,tanque3])}'\n",
    "\n",
    "def promedio(valores):\n",
    "    suma = sum(valores)\n",
    "    return suma / 3\n",
    "\n",
    "print(tanque_de_gas(5,5,5)) "
   ]
  },
  {
   "cell_type": "markdown",
   "metadata": {},
   "source": [
    "# Ejercicio2"
   ]
  },
  {
   "cell_type": "code",
   "execution_count": 16,
   "metadata": {},
   "outputs": [
    {
     "name": "stdout",
     "output_type": "stream",
     "text": [
      "\n",
      "    Mision a Luna\n",
      "    Tempo de viaje: 74 minutes\n",
      "    Total de gas: 500000\n",
      "    main tanque --> 300000 galones\n",
      "externo tanque --> 200000 galones\n",
      "\n"
     ]
    }
   ],
   "source": [
    "def mission_report(destino, *minutos, **reserva):\n",
    "    main_report = f\"\"\"\n",
    "    Mision a {destino}\n",
    "    Tempo de viaje: {sum(minutos)} minutes\n",
    "    Total de gas: {sum(reserva.values())}\n",
    "    \"\"\"\n",
    "    for tank_name, gallons in reserva.items():\n",
    "        main_report += f\"{tank_name} tanque --> {gallons} galones\\n\"\n",
    "    return main_report\n",
    "\n",
    "print(mission_report(\"Luna\", 8, 11, 55, main=300000, externo=200000))"
   ]
  }
 ],
 "metadata": {
  "interpreter": {
   "hash": "33541a670e8887513ebdf0f19cec6625b51694c5ef6b1c7e83282c54d5cd54e5"
  },
  "kernelspec": {
   "display_name": "Python 3.10.2 64-bit",
   "language": "python",
   "name": "python3"
  },
  "language_info": {
   "codemirror_mode": {
    "name": "ipython",
    "version": 3
   },
   "file_extension": ".py",
   "mimetype": "text/x-python",
   "name": "python",
   "nbconvert_exporter": "python",
   "pygments_lexer": "ipython3",
   "version": "3.10.2"
  },
  "orig_nbformat": 4
 },
 "nbformat": 4,
 "nbformat_minor": 2
}
