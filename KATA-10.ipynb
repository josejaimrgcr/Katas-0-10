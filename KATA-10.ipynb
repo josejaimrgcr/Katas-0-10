{
 "cells": [
  {
   "cell_type": "code",
   "execution_count": 8,
   "metadata": {},
   "outputs": [
    {
     "ename": "TypeError",
     "evalue": "Los argumentos deben ser de tipo entero, pero se recivio: 'None'",
     "output_type": "error",
     "traceback": [
      "\u001b[1;31m---------------------------------------------------------------------------\u001b[0m",
      "\u001b[1;31mTypeError\u001b[0m                                 Traceback (most recent call last)",
      "\u001b[1;32mc:\\Users\\Usuario\\OneDrive\\Escritorio\\Launch\\KATA-10.ipynb Cell 1'\u001b[0m in \u001b[0;36magua\u001b[1;34m(astronautas, agua_restante, dias)\u001b[0m\n\u001b[0;32m      <a href='vscode-notebook-cell:/c%3A/Users/Usuario/OneDrive/Escritorio/Launch/KATA-10.ipynb#ch0000001?line=2'>3</a>\u001b[0m \u001b[39mtry\u001b[39;00m:\n\u001b[1;32m----> <a href='vscode-notebook-cell:/c%3A/Users/Usuario/OneDrive/Escritorio/Launch/KATA-10.ipynb#ch0000001?line=3'>4</a>\u001b[0m     valores \u001b[39m/\u001b[39;49m \u001b[39m10\u001b[39;49m\n\u001b[0;32m      <a href='vscode-notebook-cell:/c%3A/Users/Usuario/OneDrive/Escritorio/Launch/KATA-10.ipynb#ch0000001?line=4'>5</a>\u001b[0m \u001b[39mexcept\u001b[39;00m \u001b[39mTypeError\u001b[39;00m:\n",
      "\u001b[1;31mTypeError\u001b[0m: unsupported operand type(s) for /: 'NoneType' and 'int'",
      "\nDuring handling of the above exception, another exception occurred:\n",
      "\u001b[1;31mTypeError\u001b[0m                                 Traceback (most recent call last)",
      "\u001b[1;32mc:\\Users\\Usuario\\OneDrive\\Escritorio\\Launch\\KATA-10.ipynb Cell 1'\u001b[0m in \u001b[0;36m<module>\u001b[1;34m\u001b[0m\n\u001b[0;32m     <a href='vscode-notebook-cell:/c%3A/Users/Usuario/OneDrive/Escritorio/Launch/KATA-10.ipynb#ch0000001?line=11'>12</a>\u001b[0m     \u001b[39mreturn\u001b[39;00m \u001b[39mf\u001b[39m\u001b[39m\"\u001b[39m\u001b[39mAgua restnate despues de \u001b[39m\u001b[39m{\u001b[39;00mdias\u001b[39m}\u001b[39;00m\u001b[39m dias es: \u001b[39m\u001b[39m{\u001b[39;00magua_restnate_final\u001b[39m}\u001b[39;00m\u001b[39m litos\u001b[39m\u001b[39m\"\u001b[39m\n\u001b[0;32m     <a href='vscode-notebook-cell:/c%3A/Users/Usuario/OneDrive/Escritorio/Launch/KATA-10.ipynb#ch0000001?line=13'>14</a>\u001b[0m \u001b[39mtry\u001b[39;00m:\n\u001b[1;32m---> <a href='vscode-notebook-cell:/c%3A/Users/Usuario/OneDrive/Escritorio/Launch/KATA-10.ipynb#ch0000001?line=14'>15</a>\u001b[0m     agua(\u001b[39m5\u001b[39;49m, \u001b[39m100\u001b[39;49m, \u001b[39mNone\u001b[39;49;00m)\n\u001b[0;32m     <a href='vscode-notebook-cell:/c%3A/Users/Usuario/OneDrive/Escritorio/Launch/KATA-10.ipynb#ch0000001?line=15'>16</a>\u001b[0m \u001b[39mexcept\u001b[39;00m \u001b[39mRuntimeError\u001b[39;00m \u001b[39mas\u001b[39;00m err:\n\u001b[0;32m     <a href='vscode-notebook-cell:/c%3A/Users/Usuario/OneDrive/Escritorio/Launch/KATA-10.ipynb#ch0000001?line=16'>17</a>\u001b[0m     alert_navigation_system(err)\n",
      "\u001b[1;32mc:\\Users\\Usuario\\OneDrive\\Escritorio\\Launch\\KATA-10.ipynb Cell 1'\u001b[0m in \u001b[0;36magua\u001b[1;34m(astronautas, agua_restante, dias)\u001b[0m\n\u001b[0;32m      <a href='vscode-notebook-cell:/c%3A/Users/Usuario/OneDrive/Escritorio/Launch/KATA-10.ipynb#ch0000001?line=3'>4</a>\u001b[0m         valores \u001b[39m/\u001b[39m \u001b[39m10\u001b[39m\n\u001b[0;32m      <a href='vscode-notebook-cell:/c%3A/Users/Usuario/OneDrive/Escritorio/Launch/KATA-10.ipynb#ch0000001?line=4'>5</a>\u001b[0m     \u001b[39mexcept\u001b[39;00m \u001b[39mTypeError\u001b[39;00m:\n\u001b[1;32m----> <a href='vscode-notebook-cell:/c%3A/Users/Usuario/OneDrive/Escritorio/Launch/KATA-10.ipynb#ch0000001?line=5'>6</a>\u001b[0m         \u001b[39mraise\u001b[39;00m \u001b[39mTypeError\u001b[39;00m(\u001b[39mf\u001b[39m\u001b[39m\"\u001b[39m\u001b[39mLos argumentos deben ser de tipo entero, pero se recivio: \u001b[39m\u001b[39m'\u001b[39m\u001b[39m{\u001b[39;00mvalores\u001b[39m}\u001b[39;00m\u001b[39m'\u001b[39m\u001b[39m\"\u001b[39m)\n\u001b[0;32m      <a href='vscode-notebook-cell:/c%3A/Users/Usuario/OneDrive/Escritorio/Launch/KATA-10.ipynb#ch0000001?line=6'>7</a>\u001b[0m agua_diaria \u001b[39m=\u001b[39m astronautas \u001b[39m*\u001b[39m \u001b[39m11\u001b[39m\n\u001b[0;32m      <a href='vscode-notebook-cell:/c%3A/Users/Usuario/OneDrive/Escritorio/Launch/KATA-10.ipynb#ch0000001?line=7'>8</a>\u001b[0m uso \u001b[39m=\u001b[39m agua_diaria \u001b[39m*\u001b[39m dias\n",
      "\u001b[1;31mTypeError\u001b[0m: Los argumentos deben ser de tipo entero, pero se recivio: 'None'"
     ]
    }
   ],
   "source": [
    "def agua(astronautas, agua_restante, dias):\n",
    "    for valores in [astronautas,agua_restante,dias]:\n",
    "        try:\n",
    "            valores / 10\n",
    "        except TypeError:\n",
    "            raise TypeError(f\"Los argumentos deben ser de tipo entero, pero se recivio: '{valores}'\")\n",
    "    agua_diaria = astronautas * 11\n",
    "    uso = agua_diaria * dias\n",
    "    agua_restnate_final = agua_restante - uso\n",
    "    if agua_restnate_final < 0:\n",
    "        raise RuntimeError(f\"No habra agua sifuciente para {astronautas} astronautas despues de {dias} dias\")\n",
    "    return f\"Agua restnate despues de {dias} dias es: {agua_restnate_final} litos\"\n",
    "\n",
    "try:\n",
    "    agua(5, 100, None)\n",
    "except RuntimeError as err:\n",
    "    alert_navigation_system(err)"
   ]
  }
 ],
 "metadata": {
  "interpreter": {
   "hash": "33541a670e8887513ebdf0f19cec6625b51694c5ef6b1c7e83282c54d5cd54e5"
  },
  "kernelspec": {
   "display_name": "Python 3.10.2 64-bit",
   "language": "python",
   "name": "python3"
  },
  "language_info": {
   "codemirror_mode": {
    "name": "ipython",
    "version": 3
   },
   "file_extension": ".py",
   "mimetype": "text/x-python",
   "name": "python",
   "nbconvert_exporter": "python",
   "pygments_lexer": "ipython3",
   "version": "3.10.2"
  },
  "orig_nbformat": 4
 },
 "nbformat": 4,
 "nbformat_minor": 2
}
